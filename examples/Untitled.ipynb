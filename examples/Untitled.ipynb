{
 "cells": [
  {
   "cell_type": "code",
   "execution_count": 54,
   "metadata": {},
   "outputs": [
    {
     "name": "stdout",
     "output_type": "stream",
     "text": [
      "\n",
      "    I am the gopher\n",
      "    I live near beaches\n",
      "    Most every evening\n",
      "    I eat lots of peaches\n",
      "\n"
     ]
    }
   ],
   "source": [
    "import random\n",
    "import pronouncing\n",
    "import pycorpora \n",
    "# https://github.com/aparrish/pycorpora \n",
    "# https://github.com/dariusk/corpora/tree/master/data \n",
    "\n",
    "\n",
    "def get_animal(syllable_target):\n",
    "    \n",
    "    # make an empty list for saving animals that match criteria\n",
    "    keepers = []\n",
    "\n",
    "    \n",
    "    # go through the whole list from corpora\n",
    "    for animal in pycorpora.animals.common['animals']:\n",
    "        # check the number of syllables \n",
    "        # --> https://pronouncing.readthedocs.io/en/latest/tutorial.html#counting-syllables\n",
    "        \n",
    "        pronunciation_list = pronouncing.phones_for_word(animal)\n",
    "        \n",
    "        if (len(pronunciation_list) > 0): # to make sure it found at least one pronunciation\n",
    "            syllable_count = pronouncing.syllable_count(pronunciation_list[0])\n",
    "        \n",
    "            # if it's a fit, then let's keep it\n",
    "            if (syllable_count == syllable_target):\n",
    "                keepers.append(animal)\n",
    "            \n",
    "    # if we have any animals that fit syllable criteria, return a random one. Otherwise, zero.\n",
    "    if (len(keepers) > 0):\n",
    "        return random.choice(keepers)\n",
    "    else:\n",
    "        return 'nothing'\n",
    "        \n",
    "\n",
    "template = \"\"\"\n",
    "    I am the {0}\n",
    "    I live near {1}\n",
    "    Most every {2}\n",
    "    I eat lots of {3}\n",
    "\"\"\"\n",
    "\n",
    "formatted = template.format(get_animal(2),\"beaches\",\"evening\",\"peaches\")\n",
    "print(formatted)"
   ]
  },
  {
   "cell_type": "code",
   "execution_count": 52,
   "metadata": {},
   "outputs": [
    {
     "data": {
      "text/plain": [
       "'gopher'"
      ]
     },
     "execution_count": 52,
     "metadata": {},
     "output_type": "execute_result"
    }
   ],
   "source": [
    "get_animal(2)"
   ]
  },
  {
   "cell_type": "code",
   "execution_count": 24,
   "metadata": {},
   "outputs": [
    {
     "data": {
      "text/plain": [
       "{'animals': ['aardvark',\n",
       "  'alligator',\n",
       "  'alpaca',\n",
       "  'antelope',\n",
       "  'ape',\n",
       "  'armadillo',\n",
       "  'baboon',\n",
       "  'badger',\n",
       "  'bat',\n",
       "  'bear',\n",
       "  'beaver',\n",
       "  'bison',\n",
       "  'boar',\n",
       "  'buffalo',\n",
       "  'bull',\n",
       "  'camel',\n",
       "  'canary',\n",
       "  'capybara',\n",
       "  'cat',\n",
       "  'chameleon',\n",
       "  'cheetah',\n",
       "  'chimpanzee',\n",
       "  'chinchilla',\n",
       "  'chipmunk',\n",
       "  'cougar',\n",
       "  'cow',\n",
       "  'coyote',\n",
       "  'crocodile',\n",
       "  'crow',\n",
       "  'deer',\n",
       "  'dingo',\n",
       "  'dog',\n",
       "  'donkey',\n",
       "  'dromedary',\n",
       "  'elephant',\n",
       "  'elk',\n",
       "  'ewe',\n",
       "  'ferret',\n",
       "  'finch',\n",
       "  'fish',\n",
       "  'fox',\n",
       "  'frog',\n",
       "  'gazelle',\n",
       "  'gila monster',\n",
       "  'giraffe',\n",
       "  'gnu',\n",
       "  'goat',\n",
       "  'gopher',\n",
       "  'gorilla',\n",
       "  'grizzly bear',\n",
       "  'ground hog',\n",
       "  'guinea pig',\n",
       "  'hamster',\n",
       "  'hedgehog',\n",
       "  'hippopotamus',\n",
       "  'hog',\n",
       "  'horse',\n",
       "  'hyena',\n",
       "  'ibex',\n",
       "  'iguana',\n",
       "  'impala',\n",
       "  'jackal',\n",
       "  'jaguar',\n",
       "  'kangaroo',\n",
       "  'koala',\n",
       "  'lamb',\n",
       "  'lemur',\n",
       "  'leopard',\n",
       "  'lion',\n",
       "  'lizard',\n",
       "  'llama',\n",
       "  'lynx',\n",
       "  'mandrill',\n",
       "  'marmoset',\n",
       "  'mink',\n",
       "  'mole',\n",
       "  'mongoose',\n",
       "  'monkey',\n",
       "  'moose',\n",
       "  'mountain goat',\n",
       "  'mouse',\n",
       "  'mule',\n",
       "  'muskrat',\n",
       "  'mustang',\n",
       "  'mynah bird',\n",
       "  'newt',\n",
       "  'ocelot',\n",
       "  'opossum',\n",
       "  'orangutan',\n",
       "  'oryx',\n",
       "  'otter',\n",
       "  'ox',\n",
       "  'panda',\n",
       "  'panther',\n",
       "  'parakeet',\n",
       "  'parrot',\n",
       "  'pig',\n",
       "  'platypus',\n",
       "  'polar bear',\n",
       "  'porcupine',\n",
       "  'porpoise',\n",
       "  'prairie dog',\n",
       "  'puma',\n",
       "  'rabbit',\n",
       "  'raccoon',\n",
       "  'ram',\n",
       "  'rat',\n",
       "  'reindeer',\n",
       "  'reptile',\n",
       "  'rhinoceros',\n",
       "  'salamander',\n",
       "  'seal',\n",
       "  'sheep',\n",
       "  'shrew',\n",
       "  'silver fox',\n",
       "  'skunk',\n",
       "  'sloth',\n",
       "  'snake',\n",
       "  'squirrel',\n",
       "  'tapir',\n",
       "  'tiger',\n",
       "  'toad',\n",
       "  'turtle',\n",
       "  'walrus',\n",
       "  'warthog',\n",
       "  'weasel',\n",
       "  'whale',\n",
       "  'wildcat',\n",
       "  'wolf',\n",
       "  'wolverine',\n",
       "  'wombat',\n",
       "  'woodchuck',\n",
       "  'yak',\n",
       "  'zebra']}"
      ]
     },
     "execution_count": 24,
     "metadata": {},
     "output_type": "execute_result"
    }
   ],
   "source": [
    "pycorpora.animals.common"
   ]
  },
  {
   "cell_type": "code",
   "execution_count": 21,
   "metadata": {},
   "outputs": [
    {
     "ename": "AttributeError",
     "evalue": "module 'pycorpora' has no attribute 'plants'",
     "output_type": "error",
     "traceback": [
      "\u001b[0;31m---------------------------------------------------------------------------\u001b[0m",
      "\u001b[0;31mAttributeError\u001b[0m                            Traceback (most recent call last)",
      "\u001b[0;32m<ipython-input-21-ab2000c5ef86>\u001b[0m in \u001b[0;36m<module>\u001b[0;34m()\u001b[0m\n\u001b[0;32m----> 1\u001b[0;31m \u001b[0mprint\u001b[0m\u001b[0;34m(\u001b[0m \u001b[0mrandom\u001b[0m\u001b[0;34m.\u001b[0m\u001b[0mchoice\u001b[0m\u001b[0;34m(\u001b[0m\u001b[0mpycorpora\u001b[0m\u001b[0;34m.\u001b[0m\u001b[0mplants\u001b[0m\u001b[0;34m.\u001b[0m\u001b[0mflowers\u001b[0m\u001b[0;34m[\u001b[0m\u001b[0;34m'flowers'\u001b[0m\u001b[0;34m]\u001b[0m\u001b[0;34m)\u001b[0m \u001b[0;34m)\u001b[0m\u001b[0;34m\u001b[0m\u001b[0m\n\u001b[0m",
      "\u001b[0;31mAttributeError\u001b[0m: module 'pycorpora' has no attribute 'plants'"
     ]
    }
   ],
   "source": [
    "print( random.choice(pycorpora.plants.flowers['flowers']) )"
   ]
  },
  {
   "cell_type": "code",
   "execution_count": 11,
   "metadata": {},
   "outputs": [
    {
     "name": "stdout",
     "output_type": "stream",
     "text": [
      "chipmunk\n"
     ]
    }
   ],
   "source": [
    "import pycorpora\n",
    "import random\n",
    "names =  pycorpora.animals.common[\"animals\"]\n",
    "print(random.choice(names))"
   ]
  },
  {
   "cell_type": "code",
   "execution_count": 7,
   "metadata": {},
   "outputs": [
    {
     "data": {
      "text/plain": [
       "<module 'pycorpora' from '/usr/local/lib/python3.6/site-packages/pycorpora/__init__.py'>"
      ]
     },
     "execution_count": 7,
     "metadata": {},
     "output_type": "execute_result"
    }
   ],
   "source": [
    "pycorpora"
   ]
  },
  {
   "cell_type": "code",
   "execution_count": 33,
   "metadata": {},
   "outputs": [
    {
     "name": "stdout",
     "output_type": "stream",
     "text": [
      "<module 'pycorpora' from '/usr/local/lib/python3.6/site-packages/pycorpora/__init__.py'>\n"
     ]
    }
   ],
   "source": [
    "print(pycorpora)"
   ]
  },
  {
   "cell_type": "code",
   "execution_count": null,
   "metadata": {},
   "outputs": [],
   "source": [
    "text = \"\"\"\n",
    "\n",
    "\n",
    "\"\"\""
   ]
  },
  {
   "cell_type": "code",
   "execution_count": 66,
   "metadata": {},
   "outputs": [],
   "source": [
    "a = 3"
   ]
  },
  {
   "cell_type": "code",
   "execution_count": 67,
   "metadata": {},
   "outputs": [],
   "source": [
    "b = 1\n",
    "c = a "
   ]
  },
  {
   "cell_type": "code",
   "execution_count": 68,
   "metadata": {},
   "outputs": [
    {
     "data": {
      "text/plain": [
       "3"
      ]
     },
     "execution_count": 68,
     "metadata": {},
     "output_type": "execute_result"
    }
   ],
   "source": [
    "c"
   ]
  },
  {
   "cell_type": "code",
   "execution_count": 69,
   "metadata": {},
   "outputs": [
    {
     "ename": "NameError",
     "evalue": "name 'TextBlob' is not defined",
     "output_type": "error",
     "traceback": [
      "\u001b[0;31m---------------------------------------------------------------------------\u001b[0m",
      "\u001b[0;31mNameError\u001b[0m                                 Traceback (most recent call last)",
      "\u001b[0;32m<ipython-input-69-22391db3d75c>\u001b[0m in \u001b[0;36m<module>\u001b[0;34m()\u001b[0m\n\u001b[0;32m----> 1\u001b[0;31m \u001b[0mTextBlob\u001b[0m\u001b[0;34m\u001b[0m\u001b[0m\n\u001b[0m",
      "\u001b[0;31mNameError\u001b[0m: name 'TextBlob' is not defined"
     ]
    }
   ],
   "source": [
    "TextBlob"
   ]
  },
  {
   "cell_type": "code",
   "execution_count": 70,
   "metadata": {},
   "outputs": [],
   "source": [
    "from textblob import TextBlob"
   ]
  },
  {
   "cell_type": "code",
   "execution_count": 71,
   "metadata": {},
   "outputs": [],
   "source": [
    "blob = TextBlob(\"The red wheelbarrow beside the white chickens.\")"
   ]
  },
  {
   "cell_type": "code",
   "execution_count": 72,
   "metadata": {},
   "outputs": [
    {
     "data": {
      "text/plain": [
       "[('The', 'DT'),\n",
       " ('red', 'JJ'),\n",
       " ('wheelbarrow', 'NN'),\n",
       " ('beside', 'IN'),\n",
       " ('the', 'DT'),\n",
       " ('white', 'JJ'),\n",
       " ('chickens', 'NNS')]"
      ]
     },
     "execution_count": 72,
     "metadata": {},
     "output_type": "execute_result"
    }
   ],
   "source": [
    "blob.tags"
   ]
  },
  {
   "cell_type": "code",
   "execution_count": null,
   "metadata": {},
   "outputs": [],
   "source": []
  }
 ],
 "metadata": {
  "kernelspec": {
   "display_name": "Python 3",
   "language": "python",
   "name": "python3"
  },
  "language_info": {
   "codemirror_mode": {
    "name": "ipython",
    "version": 3
   },
   "file_extension": ".py",
   "mimetype": "text/x-python",
   "name": "python",
   "nbconvert_exporter": "python",
   "pygments_lexer": "ipython3",
   "version": "3.6.5"
  }
 },
 "nbformat": 4,
 "nbformat_minor": 2
}
