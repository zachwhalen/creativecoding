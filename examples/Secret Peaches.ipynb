{
 "cells": [
  {
   "cell_type": "code",
   "execution_count": 65,
   "metadata": {},
   "outputs": [
    {
     "name": "stdout",
     "output_type": "stream",
     "text": [
      "\n",
      "    I am a elk\n",
      "    I live near Chicago\n",
      "    when I'm alone\n",
      "    I eat secret kumquats.\n",
      "\n",
      "\n"
     ]
    }
   ],
   "source": [
    "from textblob import TextBlob\n",
    "import random\n",
    "import pycorpora\n",
    "import pronouncing\n",
    "\n",
    "\n",
    "template = \"\"\"\n",
    "    I am a {0}\n",
    "    I live near {2}\n",
    "    when I'm alone\n",
    "    I eat secret {1}.\n",
    "\n",
    "\"\"\"\n",
    "\n",
    "\n",
    "arranged = template.format(get_animal(),get_food(),get_city() )\n",
    "print(arranged)"
   ]
  },
  {
   "cell_type": "code",
   "execution_count": 61,
   "metadata": {},
   "outputs": [],
   "source": [
    "def get_food():\n",
    "    keepers = []\n",
    "    for food in pycorpora.foods.fruits[\"fruits\"]:\n",
    "        pronunciation_list = pronouncing.phones_for_word(food)\n",
    "        if (len(pronunciation_list) > 0):\n",
    "            syllable_count = pronouncing.syllable_count(pronunciation_list[0])\n",
    "            if (syllable_count <= 2):\n",
    "                keepers.append(food)\n",
    "                \n",
    "    blob = TextBlob(random.choice(keepers))\n",
    "    \n",
    "    return blob.words[0].pluralize()\n",
    "\n",
    "def get_animal():\n",
    "    keepers = []\n",
    "    for animal in pycorpora.animals.common[\"animals\"]:\n",
    "        pronunciation_list = pronouncing.phones_for_word(animal)\n",
    "        if (len(pronunciation_list) > 0):\n",
    "            syllable_count = pronouncing.syllable_count(pronunciation_list[0])\n",
    "            if (syllable_count <= 2):\n",
    "                keepers.append(animal)\n",
    "            \n",
    "    return random.choice(keepers)\n",
    "    \n",
    "def get_city():\n",
    "    keepers = []\n",
    "    \n",
    "    for city in pycorpora.geography.us_cities['cities']:\n",
    "        pronunciation_list = pronouncing.phones_for_word(city['city'])\n",
    "        if (len(pronunciation_list) > 0):\n",
    "            syllable_count = pronouncing.syllable_count(pronunciation_list[0])\n",
    "            if (syllable_count == 3):\n",
    "                stresses = pronouncing.stresses(pronunciation_list[0])\n",
    "                if (stresses[1] == '1'):\n",
    "                    keepers.append(city['city'])\n",
    "                    \n",
    "    return random.choice(keepers)"
   ]
  },
  {
   "cell_type": "code",
   "execution_count": 62,
   "metadata": {},
   "outputs": [
    {
     "data": {
      "text/plain": [
       "'Atlanta'"
      ]
     },
     "execution_count": 62,
     "metadata": {},
     "output_type": "execute_result"
    }
   ],
   "source": [
    "get_city()"
   ]
  },
  {
   "cell_type": "code",
   "execution_count": null,
   "metadata": {},
   "outputs": [],
   "source": [
    "    + -  - +  -\n",
    "A    I am a walrus\n",
    "    - +    -    -   +  - \n",
    "B    I live near the beaches\n",
    "    +    -   - + \n",
    "C    when I'm alone\n",
    "    - +   -  -   +   - \n",
    "B    I eat secret peaches."
   ]
  },
  {
   "cell_type": "code",
   "execution_count": 4,
   "metadata": {},
   "outputs": [
    {
     "data": {
      "text/plain": [
       "2"
      ]
     },
     "execution_count": 4,
     "metadata": {},
     "output_type": "execute_result"
    }
   ],
   "source": [
    "pronunciation_list = pronouncing.phones_for_word(\"walrus\")\n",
    "pronouncing.syllable_count(pronunciation_list[0])"
   ]
  },
  {
   "cell_type": "code",
   "execution_count": 23,
   "metadata": {},
   "outputs": [],
   "source": [
    "text = \"peach\"\n",
    "blob = TextBlob(text)"
   ]
  },
  {
   "cell_type": "code",
   "execution_count": 24,
   "metadata": {},
   "outputs": [
    {
     "name": "stdout",
     "output_type": "stream",
     "text": [
      "peaches\n"
     ]
    }
   ],
   "source": [
    "for w in blob.words:\n",
    "    print(w.pluralize())"
   ]
  },
  {
   "cell_type": "code",
   "execution_count": 26,
   "metadata": {},
   "outputs": [
    {
     "data": {
      "text/plain": [
       "'peaches'"
      ]
     },
     "execution_count": 26,
     "metadata": {},
     "output_type": "execute_result"
    }
   ],
   "source": [
    "blob.words[0].pluralize()"
   ]
  },
  {
   "cell_type": "code",
   "execution_count": 35,
   "metadata": {},
   "outputs": [
    {
     "data": {
      "text/plain": [
       "True"
      ]
     },
     "execution_count": 35,
     "metadata": {},
     "output_type": "execute_result"
    }
   ],
   "source": [
    "\"beach\" in pronouncing.rhymes(\"peach\")"
   ]
  },
  {
   "cell_type": "code",
   "execution_count": 37,
   "metadata": {},
   "outputs": [
    {
     "data": {
      "text/plain": [
       "['JH AE1 K S AH0 N V IH2 L']"
      ]
     },
     "execution_count": 37,
     "metadata": {},
     "output_type": "execute_result"
    }
   ],
   "source": [
    "pronouncing.phones_for_word(\"Jacksonville\")"
   ]
  },
  {
   "cell_type": "code",
   "execution_count": 19,
   "metadata": {},
   "outputs": [
    {
     "data": {
      "text/plain": [
       "'Irvine'"
      ]
     },
     "execution_count": 19,
     "metadata": {},
     "output_type": "execute_result"
    }
   ],
   "source": [
    "random.choice(pycorpora.geography.us_cities['cities'])['city']"
   ]
  },
  {
   "cell_type": "code",
   "execution_count": 23,
   "metadata": {},
   "outputs": [],
   "source": [
    "def get_city():\n",
    "    return random.choice(pycorpora.geography.us_cities['cities'])['city']"
   ]
  },
  {
   "cell_type": "code",
   "execution_count": 25,
   "metadata": {},
   "outputs": [
    {
     "name": "stdout",
     "output_type": "stream",
     "text": [
      "New Haven\n"
     ]
    }
   ],
   "source": [
    "print(get_city())"
   ]
  },
  {
   "cell_type": "code",
   "execution_count": 43,
   "metadata": {},
   "outputs": [
    {
     "data": {
      "text/plain": [
       "'12'"
      ]
     },
     "execution_count": 43,
     "metadata": {},
     "output_type": "execute_result"
    }
   ],
   "source": [
    "pronunciation_list = pronouncing.phones_for_word(\"Gainesville\")\n",
    "pronouncing.stresses(pronunciation_list[0])"
   ]
  },
  {
   "cell_type": "code",
   "execution_count": 52,
   "metadata": {},
   "outputs": [],
   "source": [
    "text = \"Hello\""
   ]
  },
  {
   "cell_type": "code",
   "execution_count": 54,
   "metadata": {},
   "outputs": [],
   "source": [
    "av = ['one','two']"
   ]
  },
  {
   "cell_type": "code",
   "execution_count": 58,
   "metadata": {},
   "outputs": [
    {
     "data": {
      "text/plain": [
       "'H'"
      ]
     },
     "execution_count": 58,
     "metadata": {},
     "output_type": "execute_result"
    }
   ],
   "source": [
    "text[0]"
   ]
  },
  {
   "cell_type": "code",
   "execution_count": null,
   "metadata": {},
   "outputs": [],
   "source": []
  }
 ],
 "metadata": {
  "kernelspec": {
   "display_name": "Python 3",
   "language": "python",
   "name": "python3"
  },
  "language_info": {
   "codemirror_mode": {
    "name": "ipython",
    "version": 3
   },
   "file_extension": ".py",
   "mimetype": "text/x-python",
   "name": "python",
   "nbconvert_exporter": "python",
   "pygments_lexer": "ipython3",
   "version": "3.6.5"
  }
 },
 "nbformat": 4,
 "nbformat_minor": 2
}
