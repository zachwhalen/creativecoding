{
 "cells": [
  {
   "cell_type": "code",
   "execution_count": 1,
   "metadata": {},
   "outputs": [
    {
     "name": "stdout",
     "output_type": "stream",
     "text": [
      "conform fresh admire frightful purpose\n",
      "friend unrelaxed look few effect\n",
      "night long keep few obey\n",
      "licence wise be same night\n",
      "mother narrow pass ready change\n",
      "permission frightful have sorrowing intention\n",
      "http many leave human excess\n",
      "mind daily devote “ provocation\n"
     ]
    }
   ],
   "source": [
    "import random\n",
    "from textblob import TextBlob\n",
    "\n",
    "# This looks for a file called \"frankenstein.txt\" \n",
    "# in the same directory as my python notebook or script.\n",
    "# Replace \"frankenstein.txt\" with your file's name.\n",
    "# The text file's contents are stored in the variable \"text\"\n",
    "with open('frankenstein.txt', 'r') as file:\n",
    "    text = file.read()\n",
    "\n",
    "# This parses the text file contents into a TextBlob oject called \"blob\"\n",
    "blob = TextBlob(text)\n",
    "\n",
    "# Create two empty lists for storing adjectives and nouns\n",
    "adjectives = []\n",
    "nouns = []\n",
    "verbs = []\n",
    "\n",
    "# TextBlob parses the words and labels them with a part-of-speech tag.\n",
    "# This code loops through the whole text, checks for adjectives and nouns\n",
    "# and adds them to the appropriate list.\n",
    "for word,pos in blob.tags:\n",
    "    # print(word,pos)\n",
    "    if (pos == 'JJ'):\n",
    "        adjectives.append(word)\n",
    "    if (pos == 'NN'):\n",
    "        nouns.append(word)\n",
    "    if (pos == 'VB'):\n",
    "        verbs.append(word)\n",
    "\n",
    "# This generates an eight-line poem by pairing a random adjective \n",
    "# with a random noun eight times and printing the pairs.\n",
    "for i in range(8):\n",
    "    a1 = random.choice(adjectives)\n",
    "    a2 = random.choice(adjectives)\n",
    "    n1 = random.choice(nouns)\n",
    "    n2 = random.choice(nouns)\n",
    "    n3 = random.choice(nouns)\n",
    "    vb = random.choice(verbs)\n",
    "    print(n1 + \" \" + a1 + \" \" +  vb  + \" \" + a2  + \" \" + n3)\n"
   ]
  },
  {
   "cell_type": "code",
   "execution_count": null,
   "metadata": {},
   "outputs": [],
   "source": []
  }
 ],
 "metadata": {
  "kernelspec": {
   "display_name": "Python 3",
   "language": "python",
   "name": "python3"
  },
  "language_info": {
   "codemirror_mode": {
    "name": "ipython",
    "version": 3
   },
   "file_extension": ".py",
   "mimetype": "text/x-python",
   "name": "python",
   "nbconvert_exporter": "python",
   "pygments_lexer": "ipython3",
   "version": "3.6.5"
  }
 },
 "nbformat": 4,
 "nbformat_minor": 2
}
